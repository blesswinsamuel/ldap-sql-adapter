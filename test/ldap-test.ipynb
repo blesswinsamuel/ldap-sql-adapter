{
 "cells": [
  {
   "cell_type": "code",
   "execution_count": 11,
   "metadata": {},
   "outputs": [
    {
     "name": "stdout",
     "output_type": "stream",
     "text": [
      "people\n",
      "'uid=john_doe,ou=people,dc=example,dc=com' {'email': [b'john_doe@example.com'], 'displayname': [b'John Doe'], 'uid': [b'john_doe'], 'objectclass': [b'person'], 'ou': [b'people']}\n",
      "groups\n",
      "'cn=admin,ou=groups,dc=example,dc=com' {'name': [b'admin'], 'objectclass': [b'group'], 'ou': [b'groups'], 'cn': [b'admin']}\n"
     ]
    }
   ],
   "source": [
    "import ldap\n",
    "l = ldap.initialize('ldap://localhost:40389')\n",
    "base_dn = 'dc=example,dc=com'\n",
    "l.bind_s('cn=admin,'+base_dn, 'adminpassword')\n",
    "res = l.search_s('ou=people,'+base_dn,ldap.SCOPE_SUBTREE,'(&(uid=john_doe)(objectClass=person))',['cn','email'])\n",
    "print('people')\n",
    "for dn, entry in res:\n",
    "  print(repr(dn), entry)\n",
    "\n",
    "res = l.search_s('ou=groups,'+base_dn,ldap.SCOPE_SUBTREE,'(&(member=uid=john_doe,ou=people,dc=example,dc=com)(objectClass=groupOfNames))',['cn','email'])\n",
    "print('groups')\n",
    "for dn, entry in res:\n",
    "  print(repr(dn), entry)\n",
    "# res = l.search_s('dc=example,dc=com',ldap.SCOPE_SUBTREE,'uid=testuser',['cn','mail'])\n",
    "# print(res)\n",
    "# # [('cn=Fred Feuerstein,ou=Testing,dc=stroeder,dc=de', {'cn': ['Fred Feuerstein']})]\n",
    "# r = l.search_s('dc=example,dc=com',ldap.SCOPE_SUBTREE,'(objectClass=*)',['cn','mail'])\n",
    "l.unbind_s()\n"
   ]
  },
  {
   "cell_type": "code",
   "execution_count": null,
   "metadata": {},
   "outputs": [],
   "source": []
  }
 ],
 "metadata": {
  "kernelspec": {
   "display_name": "bless-dashboard-5k2NRhEd-py3.11",
   "language": "python",
   "name": "python3"
  },
  "language_info": {
   "codemirror_mode": {
    "name": "ipython",
    "version": 3
   },
   "file_extension": ".py",
   "mimetype": "text/x-python",
   "name": "python",
   "nbconvert_exporter": "python",
   "pygments_lexer": "ipython3",
   "version": "3.11.4"
  },
  "orig_nbformat": 4
 },
 "nbformat": 4,
 "nbformat_minor": 2
}
