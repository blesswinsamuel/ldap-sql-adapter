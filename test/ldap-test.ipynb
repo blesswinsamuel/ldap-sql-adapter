{
 "cells": [
  {
   "cell_type": "code",
   "execution_count": 19,
   "metadata": {},
   "outputs": [
    {
     "name": "stdout",
     "output_type": "stream",
     "text": [
      "'uid=blesswinsamuel,ou=people,dc=example,dc=com' {'email': [b'blesswinsamuel@gmail.com'], 'displayname': [b'Blesswin'], 'uid': [b'blesswinsamuel'], 'objectclass': [b'person'], 'ou': [b'people']}\n"
     ]
    }
   ],
   "source": [
    "import ldap\n",
    "l = ldap.initialize('ldap://localhost:10389')\n",
    "l.bind_s('cn=admin,dc=example,dc=com', 'admin')\n",
    "res = l.search_s('ou=people,dc=example,dc=com',0,'(&(uid=blesswinsamuel)(objectClass=person))',['cn','email'])\n",
    "# res = l.search_s('dc=example,dc=com',ldap.SCOPE_SUBTREE,'uid=testuser',['cn','mail'])\n",
    "# print(res)\n",
    "# # [('cn=Fred Feuerstein,ou=Testing,dc=stroeder,dc=de', {'cn': ['Fred Feuerstein']})]\n",
    "# r = l.search_s('dc=example,dc=com',ldap.SCOPE_SUBTREE,'(objectClass=*)',['cn','mail'])\n",
    "l.unbind_s()\n",
    "for dn, entry in res:\n",
    "  print(repr(dn), entry)"
   ]
  },
  {
   "cell_type": "code",
   "execution_count": null,
   "metadata": {},
   "outputs": [],
   "source": []
  }
 ],
 "metadata": {
  "kernelspec": {
   "display_name": "bless-dashboard-5k2NRhEd-py3.11",
   "language": "python",
   "name": "python3"
  },
  "language_info": {
   "codemirror_mode": {
    "name": "ipython",
    "version": 3
   },
   "file_extension": ".py",
   "mimetype": "text/x-python",
   "name": "python",
   "nbconvert_exporter": "python",
   "pygments_lexer": "ipython3",
   "version": "3.11.3"
  },
  "orig_nbformat": 4
 },
 "nbformat": 4,
 "nbformat_minor": 2
}
